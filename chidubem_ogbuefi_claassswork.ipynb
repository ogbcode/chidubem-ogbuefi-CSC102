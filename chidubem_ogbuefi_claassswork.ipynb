{
  "nbformat": 4,
  "nbformat_minor": 0,
  "metadata": {
    "kernelspec": {
      "display_name": "Python 3",
      "language": "python",
      "name": "python3"
    },
    "language_info": {
      "codemirror_mode": {
        "name": "ipython",
        "version": 3
      },
      "file_extension": ".py",
      "mimetype": "text/x-python",
      "name": "python",
      "nbconvert_exporter": "python",
      "pygments_lexer": "ipython3",
      "version": "3.8.5"
    },
    "colab": {
      "name": "chidubem ogbuefi claassswork.ipynb",
      "provenance": [],
      "include_colab_link": true
    }
  },
  "cells": [
    {
      "cell_type": "markdown",
      "metadata": {
        "id": "view-in-github",
        "colab_type": "text"
      },
      "source": [
        "<a href=\"https://colab.research.google.com/github/ogbcode/chidubem-ogbuefi-CSC102/blob/main/chidubem_ogbuefi_claassswork.ipynb\" target=\"_parent\"><img src=\"https://colab.research.google.com/assets/colab-badge.svg\" alt=\"Open In Colab\"/></a>"
      ]
    },
    {
      "cell_type": "code",
      "metadata": {
        "id": "igCFycXLbwKl"
      },
      "source": [
        "names =[\"ann\",\"jane\",\"joan\",\"clare\",\"elizabeth\",\"charles\",\"jude\",\"james\",\"kelvin\",\"prosper\"]\n",
        "age =[14,16,14,17,16,15,16,16,17,14]\n",
        "height =[5.5,6,5.4,5.9,5.6,5.7,5.9,5"
      ],
      "execution_count": null,
      "outputs": []
    },
    {
      "cell_type": "markdown",
      "metadata": {
        "id": "FXjYbAjsbwKx"
      },
      "source": [
        "## step 2: create a dictionary object containing the observations"
      ]
    },
    {
      "cell_type": "code",
      "metadata": {
        "id": "St2TxSWAbwKy"
      },
      "source": [
        "tab={\"names\":names,\"äge\":age,\"height\":height,\"scores\":scores}"
      ],
      "execution_count": null,
      "outputs": []
    },
    {
      "cell_type": "code",
      "metadata": {
        "id": "a4aSwIRIbwKy"
      },
      "source": [
        "import pandas"
      ],
      "execution_count": null,
      "outputs": []
    },
    {
      "cell_type": "code",
      "metadata": {
        "id": "8Sao8CYlbwKz"
      },
      "source": [
        "data=pandas.DataFrame(tab)"
      ],
      "execution_count": null,
      "outputs": []
    },
    {
      "cell_type": "code",
      "metadata": {
        "id": "hhKulQEbbwKz",
        "outputId": "f44b95ed-8e61-49a2-a6aa-3e252899d333"
      },
      "source": [
        "data"
      ],
      "execution_count": null,
      "outputs": [
        {
          "output_type": "execute_result",
          "data": {
            "text/html": [
              "<div>\n",
              "<style scoped>\n",
              "    .dataframe tbody tr th:only-of-type {\n",
              "        vertical-align: middle;\n",
              "    }\n",
              "\n",
              "    .dataframe tbody tr th {\n",
              "        vertical-align: top;\n",
              "    }\n",
              "\n",
              "    .dataframe thead th {\n",
              "        text-align: right;\n",
              "    }\n",
              "</style>\n",
              "<table border=\"1\" class=\"dataframe\">\n",
              "  <thead>\n",
              "    <tr style=\"text-align: right;\">\n",
              "      <th></th>\n",
              "      <th>names</th>\n",
              "      <th>äge</th>\n",
              "      <th>height</th>\n",
              "      <th>scores</th>\n",
              "    </tr>\n",
              "  </thead>\n",
              "  <tbody>\n",
              "    <tr>\n",
              "      <th>0</th>\n",
              "      <td>ann</td>\n",
              "      <td>14</td>\n",
              "      <td>5.5</td>\n",
              "      <td>80</td>\n",
              "    </tr>\n",
              "    <tr>\n",
              "      <th>1</th>\n",
              "      <td>jane</td>\n",
              "      <td>16</td>\n",
              "      <td>6.0</td>\n",
              "      <td>85</td>\n",
              "    </tr>\n",
              "    <tr>\n",
              "      <th>2</th>\n",
              "      <td>joan</td>\n",
              "      <td>14</td>\n",
              "      <td>5.4</td>\n",
              "      <td>70</td>\n",
              "    </tr>\n",
              "    <tr>\n",
              "      <th>3</th>\n",
              "      <td>clare</td>\n",
              "      <td>17</td>\n",
              "      <td>5.9</td>\n",
              "      <td>60</td>\n",
              "    </tr>\n",
              "    <tr>\n",
              "      <th>4</th>\n",
              "      <td>elizabeth</td>\n",
              "      <td>16</td>\n",
              "      <td>5.6</td>\n",
              "      <td>76</td>\n",
              "    </tr>\n",
              "    <tr>\n",
              "      <th>5</th>\n",
              "      <td>charles</td>\n",
              "      <td>15</td>\n",
              "      <td>5.7</td>\n",
              "      <td>85</td>\n",
              "    </tr>\n",
              "    <tr>\n",
              "      <th>6</th>\n",
              "      <td>jude</td>\n",
              "      <td>16</td>\n",
              "      <td>5.9</td>\n",
              "      <td>74</td>\n",
              "    </tr>\n",
              "    <tr>\n",
              "      <th>7</th>\n",
              "      <td>james</td>\n",
              "      <td>16</td>\n",
              "      <td>5.8</td>\n",
              "      <td>87</td>\n",
              "    </tr>\n",
              "    <tr>\n",
              "      <th>8</th>\n",
              "      <td>kelvin</td>\n",
              "      <td>17</td>\n",
              "      <td>6.1</td>\n",
              "      <td>75</td>\n",
              "    </tr>\n",
              "    <tr>\n",
              "      <th>9</th>\n",
              "      <td>prosper</td>\n",
              "      <td>14</td>\n",
              "      <td>5.9</td>\n",
              "      <td>68</td>\n",
              "    </tr>\n",
              "  </tbody>\n",
              "</table>\n",
              "</div>"
            ],
            "text/plain": [
              "       names  äge  height  scores\n",
              "0        ann   14     5.5      80\n",
              "1       jane   16     6.0      85\n",
              "2       joan   14     5.4      70\n",
              "3      clare   17     5.9      60\n",
              "4  elizabeth   16     5.6      76\n",
              "5    charles   15     5.7      85\n",
              "6       jude   16     5.9      74\n",
              "7      james   16     5.8      87\n",
              "8     kelvin   17     6.1      75\n",
              "9    prosper   14     5.9      68"
            ]
          },
          "metadata": {
            "tags": []
          },
          "execution_count": 8
        }
      ]
    },
    {
      "cell_type": "code",
      "metadata": {
        "id": "uBQPuuAnbwK0"
      },
      "source": [
        "data.to_excel(\"data.xlsx\")"
      ],
      "execution_count": null,
      "outputs": []
    },
    {
      "cell_type": "code",
      "metadata": {
        "scrolled": true,
        "id": "OUBpVuUbbwK0",
        "outputId": "e22e87ff-de17-4815-f359-bbdc7bd46eb2"
      },
      "source": [
        "import pandas\n",
        "r_d_spend =[1234,2356,78,7655,7754,7755,7554,996,455,4234]\n",
        "administration =[143,167,1894,1907,106,1675,1776,1446,1557,1784]\n",
        "marketing_spend =[5895,996,994,599,596,589,569,534,567,789]\n",
        "state=[\"new york\",\"california\",\"florida\",\"new york\",\"florida\",\"newyork\",\"california\",\"florida\",\"new york\",\"california\"]\n",
        "profit=[1443,456,7544,6674,644,345,645,545,657,666]\n",
        "tab={\"R&D spend\":r_d_spend,\"administration\":administration,\"marketing spend \":marketing_spend ,\"state\":state,\"profit\":profit}\n",
        "data=pandas.DataFrame(tab)\n",
        "data\n",
        "index=False\n",
        "data.to_excel(\"chidubem ogbuefi problem solving.xlsx\")\n",
        "pandas.read_excel(\"chidubem ogbuefi problem solving.xlsx\")"
      ],
      "execution_count": null,
      "outputs": [
        {
          "output_type": "execute_result",
          "data": {
            "text/html": [
              "<div>\n",
              "<style scoped>\n",
              "    .dataframe tbody tr th:only-of-type {\n",
              "        vertical-align: middle;\n",
              "    }\n",
              "\n",
              "    .dataframe tbody tr th {\n",
              "        vertical-align: top;\n",
              "    }\n",
              "\n",
              "    .dataframe thead th {\n",
              "        text-align: right;\n",
              "    }\n",
              "</style>\n",
              "<table border=\"1\" class=\"dataframe\">\n",
              "  <thead>\n",
              "    <tr style=\"text-align: right;\">\n",
              "      <th></th>\n",
              "      <th>Unnamed: 0</th>\n",
              "      <th>R&amp;D spend</th>\n",
              "      <th>administration</th>\n",
              "      <th>marketing spend</th>\n",
              "      <th>state</th>\n",
              "      <th>profit</th>\n",
              "    </tr>\n",
              "  </thead>\n",
              "  <tbody>\n",
              "    <tr>\n",
              "      <th>0</th>\n",
              "      <td>0</td>\n",
              "      <td>1234</td>\n",
              "      <td>143</td>\n",
              "      <td>5895</td>\n",
              "      <td>new york</td>\n",
              "      <td>1443</td>\n",
              "    </tr>\n",
              "    <tr>\n",
              "      <th>1</th>\n",
              "      <td>1</td>\n",
              "      <td>2356</td>\n",
              "      <td>167</td>\n",
              "      <td>996</td>\n",
              "      <td>california</td>\n",
              "      <td>456</td>\n",
              "    </tr>\n",
              "    <tr>\n",
              "      <th>2</th>\n",
              "      <td>2</td>\n",
              "      <td>78</td>\n",
              "      <td>1894</td>\n",
              "      <td>994</td>\n",
              "      <td>florida</td>\n",
              "      <td>7544</td>\n",
              "    </tr>\n",
              "    <tr>\n",
              "      <th>3</th>\n",
              "      <td>3</td>\n",
              "      <td>7655</td>\n",
              "      <td>1907</td>\n",
              "      <td>599</td>\n",
              "      <td>new york</td>\n",
              "      <td>6674</td>\n",
              "    </tr>\n",
              "    <tr>\n",
              "      <th>4</th>\n",
              "      <td>4</td>\n",
              "      <td>7754</td>\n",
              "      <td>106</td>\n",
              "      <td>596</td>\n",
              "      <td>florida</td>\n",
              "      <td>644</td>\n",
              "    </tr>\n",
              "    <tr>\n",
              "      <th>5</th>\n",
              "      <td>5</td>\n",
              "      <td>7755</td>\n",
              "      <td>1675</td>\n",
              "      <td>589</td>\n",
              "      <td>newyork</td>\n",
              "      <td>345</td>\n",
              "    </tr>\n",
              "    <tr>\n",
              "      <th>6</th>\n",
              "      <td>6</td>\n",
              "      <td>7554</td>\n",
              "      <td>1776</td>\n",
              "      <td>569</td>\n",
              "      <td>california</td>\n",
              "      <td>645</td>\n",
              "    </tr>\n",
              "    <tr>\n",
              "      <th>7</th>\n",
              "      <td>7</td>\n",
              "      <td>996</td>\n",
              "      <td>1446</td>\n",
              "      <td>534</td>\n",
              "      <td>florida</td>\n",
              "      <td>545</td>\n",
              "    </tr>\n",
              "    <tr>\n",
              "      <th>8</th>\n",
              "      <td>8</td>\n",
              "      <td>455</td>\n",
              "      <td>1557</td>\n",
              "      <td>567</td>\n",
              "      <td>new york</td>\n",
              "      <td>657</td>\n",
              "    </tr>\n",
              "    <tr>\n",
              "      <th>9</th>\n",
              "      <td>9</td>\n",
              "      <td>4234</td>\n",
              "      <td>1784</td>\n",
              "      <td>789</td>\n",
              "      <td>california</td>\n",
              "      <td>666</td>\n",
              "    </tr>\n",
              "  </tbody>\n",
              "</table>\n",
              "</div>"
            ],
            "text/plain": [
              "   Unnamed: 0  R&D spend  administration  marketing spend        state  profit\n",
              "0           0       1234             143              5895    new york    1443\n",
              "1           1       2356             167               996  california     456\n",
              "2           2         78            1894               994     florida    7544\n",
              "3           3       7655            1907               599    new york    6674\n",
              "4           4       7754             106               596     florida     644\n",
              "5           5       7755            1675               589     newyork     345\n",
              "6           6       7554            1776               569  california     645\n",
              "7           7        996            1446               534     florida     545\n",
              "8           8        455            1557               567    new york     657\n",
              "9           9       4234            1784               789  california     666"
            ]
          },
          "metadata": {
            "tags": []
          },
          "execution_count": 32
        }
      ]
    },
    {
      "cell_type": "code",
      "metadata": {
        "id": "TM2GcbtmbwK1",
        "outputId": "8b3db15a-d265-432e-fb13-5756ba010907"
      },
      "source": [
        "distance=float(input(\"how far does the car go in miles\"))\n",
        "time=int(input(\"what is the time taken to reach that distance in hours\"))\n",
        "speed= distance/time\n",
        "print(\"the car goes\",speed,\"miles/hour\")\n",
        "              "
      ],
      "execution_count": null,
      "outputs": [
        {
          "output_type": "stream",
          "text": [
            "how far does the car go in miles50\n",
            "what is the time taken to reach that distance2\n",
            "the car goes 25.0 m/s\n"
          ],
          "name": "stdout"
        }
      ]
    },
    {
      "cell_type": "code",
      "metadata": {
        "colab": {
          "base_uri": "https://localhost:8080/",
          "height": 300
        },
        "id": "xmpvreqdbwK2",
        "outputId": "0c5a90a2-42c9-43e8-b758-46e7f6367c4e"
      },
      "source": [
        "print(\"ax^2+bx+c=0\")\n",
        "A=float(input(\"what is the value of a:\"))\n",
        "B=float(input(\"what is the value of b:\")) \n",
        "C=float(input(\"what is the value of c:\"))\n",
        "x1=(-B+((B**(2)-(4*A*C))**(1/2)))/(2*A)\n",
        "x2=(-B-((B**(2)-(4*A*C))**(1/2)))/(2*A)\n",
        "print(\"the roots of the quadratic equation are \",x1,\"and\",x2)"
      ],
      "execution_count": 5,
      "outputs": [
        {
          "output_type": "stream",
          "text": [
            "ax^2+bx+c=0\n",
            "what is the value of a:2\n",
            "what is the value of b:3\n",
            "what is the value of c:\n"
          ],
          "name": "stdout"
        },
        {
          "output_type": "error",
          "ename": "ValueError",
          "evalue": "ignored",
          "traceback": [
            "\u001b[0;31m---------------------------------------------------------------------------\u001b[0m",
            "\u001b[0;31mValueError\u001b[0m                                Traceback (most recent call last)",
            "\u001b[0;32m<ipython-input-5-9464a98b2e27>\u001b[0m in \u001b[0;36m<module>\u001b[0;34m()\u001b[0m\n\u001b[1;32m      2\u001b[0m \u001b[0mA\u001b[0m\u001b[0;34m=\u001b[0m\u001b[0mfloat\u001b[0m\u001b[0;34m(\u001b[0m\u001b[0minput\u001b[0m\u001b[0;34m(\u001b[0m\u001b[0;34m\"what is the value of a:\"\u001b[0m\u001b[0;34m)\u001b[0m\u001b[0;34m)\u001b[0m\u001b[0;34m\u001b[0m\u001b[0;34m\u001b[0m\u001b[0m\n\u001b[1;32m      3\u001b[0m \u001b[0mB\u001b[0m\u001b[0;34m=\u001b[0m\u001b[0mfloat\u001b[0m\u001b[0;34m(\u001b[0m\u001b[0minput\u001b[0m\u001b[0;34m(\u001b[0m\u001b[0;34m\"what is the value of b:\"\u001b[0m\u001b[0;34m)\u001b[0m\u001b[0;34m)\u001b[0m\u001b[0;34m\u001b[0m\u001b[0;34m\u001b[0m\u001b[0m\n\u001b[0;32m----> 4\u001b[0;31m \u001b[0mC\u001b[0m\u001b[0;34m=\u001b[0m\u001b[0mfloat\u001b[0m\u001b[0;34m(\u001b[0m\u001b[0minput\u001b[0m\u001b[0;34m(\u001b[0m\u001b[0;34m\"what is the value of c:\"\u001b[0m\u001b[0;34m)\u001b[0m\u001b[0;34m)\u001b[0m\u001b[0;34m\u001b[0m\u001b[0;34m\u001b[0m\u001b[0m\n\u001b[0m\u001b[1;32m      5\u001b[0m \u001b[0mx1\u001b[0m\u001b[0;34m=\u001b[0m\u001b[0;34m(\u001b[0m\u001b[0;34m-\u001b[0m\u001b[0mB\u001b[0m\u001b[0;34m+\u001b[0m\u001b[0;34m(\u001b[0m\u001b[0;34m(\u001b[0m\u001b[0mB\u001b[0m\u001b[0;34m**\u001b[0m\u001b[0;34m(\u001b[0m\u001b[0;36m2\u001b[0m\u001b[0;34m)\u001b[0m\u001b[0;34m-\u001b[0m\u001b[0;34m(\u001b[0m\u001b[0;36m4\u001b[0m\u001b[0;34m*\u001b[0m\u001b[0mA\u001b[0m\u001b[0;34m*\u001b[0m\u001b[0mC\u001b[0m\u001b[0;34m)\u001b[0m\u001b[0;34m)\u001b[0m\u001b[0;34m**\u001b[0m\u001b[0;34m(\u001b[0m\u001b[0;36m1\u001b[0m\u001b[0;34m/\u001b[0m\u001b[0;36m2\u001b[0m\u001b[0;34m)\u001b[0m\u001b[0;34m)\u001b[0m\u001b[0;34m)\u001b[0m\u001b[0;34m/\u001b[0m\u001b[0;34m(\u001b[0m\u001b[0;36m2\u001b[0m\u001b[0;34m*\u001b[0m\u001b[0mA\u001b[0m\u001b[0;34m)\u001b[0m\u001b[0;34m\u001b[0m\u001b[0;34m\u001b[0m\u001b[0m\n\u001b[1;32m      6\u001b[0m \u001b[0mx2\u001b[0m\u001b[0;34m=\u001b[0m\u001b[0;34m(\u001b[0m\u001b[0;34m-\u001b[0m\u001b[0mB\u001b[0m\u001b[0;34m-\u001b[0m\u001b[0;34m(\u001b[0m\u001b[0;34m(\u001b[0m\u001b[0mB\u001b[0m\u001b[0;34m**\u001b[0m\u001b[0;34m(\u001b[0m\u001b[0;36m2\u001b[0m\u001b[0;34m)\u001b[0m\u001b[0;34m-\u001b[0m\u001b[0;34m(\u001b[0m\u001b[0;36m4\u001b[0m\u001b[0;34m*\u001b[0m\u001b[0mA\u001b[0m\u001b[0;34m*\u001b[0m\u001b[0mC\u001b[0m\u001b[0;34m)\u001b[0m\u001b[0;34m)\u001b[0m\u001b[0;34m**\u001b[0m\u001b[0;34m(\u001b[0m\u001b[0;36m1\u001b[0m\u001b[0;34m/\u001b[0m\u001b[0;36m2\u001b[0m\u001b[0;34m)\u001b[0m\u001b[0;34m)\u001b[0m\u001b[0;34m)\u001b[0m\u001b[0;34m/\u001b[0m\u001b[0;34m(\u001b[0m\u001b[0;36m2\u001b[0m\u001b[0;34m*\u001b[0m\u001b[0mA\u001b[0m\u001b[0;34m)\u001b[0m\u001b[0;34m\u001b[0m\u001b[0;34m\u001b[0m\u001b[0m\n",
            "\u001b[0;31mValueError\u001b[0m: could not convert string to float: "
          ]
        }
      ]
    },
    {
      "cell_type": "code",
      "metadata": {
        "colab": {
          "base_uri": "https://localhost:8080/"
        },
        "id": "zUI_I2vsf_zy",
        "outputId": "b99f66de-f8a7-42d6-9e0e-2e7719598667"
      },
      "source": [
        "print(\"Player 1 pick yor side odd or even\")\n",
        "player1side=input(\"player 1 pick your side\")\n",
        "if player1side ==\"odd\": \n",
        "     print(\"player 2 your side is even\")\n",
        "if player1side ==\"even\":\n",
        "     print(\"player 2 your side is odd\")\n",
        "p1=int(input(\"player 1 pick your number\"))\n",
        "p2=int(input(\"player 2 pick your number\"))\n",
        "ptotal=p1+p2 \n",
        "if ptotal%2==0:\n",
        "  print(\"even side wins the game\")\n",
        "else:\n",
        "  print(\"odd side wins the game\")\n"
      ],
      "execution_count": 18,
      "outputs": [
        {
          "output_type": "stream",
          "text": [
            "Player 1 pick yor side odd or even\n",
            "player 1 pick your sideeven\n",
            "player 2 your side is odd\n",
            "player 1 pick your number2\n",
            "player 2 pick your number3\n",
            "odd wins the game\n"
          ],
          "name": "stdout"
        }
      ]
    },
    {
      "cell_type": "code",
      "metadata": {
        "id": "PicKOL80f3-1"
      },
      "source": [
        ""
      ],
      "execution_count": null,
      "outputs": []
    }
  ]
}